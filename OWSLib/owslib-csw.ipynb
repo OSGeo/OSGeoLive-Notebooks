{
 "cells": [
  {
   "cell_type": "markdown",
   "id": "4d20f261",
   "metadata": {},
   "source": [
    "# Connecting to CSW"
   ]
  },
  {
   "cell_type": "markdown",
   "id": "0ec479ca",
   "metadata": {},
   "source": [
    "In this notebook we will connect to a Catalogue Service for the Web (CSW) demo server provided by pycsw on OSGeoLive. "
   ]
  },
  {
   "cell_type": "code",
   "execution_count": null,
   "id": "54400960",
   "metadata": {},
   "outputs": [],
   "source": [
    "from owslib.csw import CatalogueServiceWeb\n",
    "csw = CatalogueServiceWeb('http://localhost/pycsw/')\n",
    "print(f\"Title: {csw.identification.title} Type: {csw.identification.type}\")"
   ]
  },
  {
   "cell_type": "markdown",
   "id": "0be16d8c",
   "metadata": {},
   "source": [
    "Now we can see what operations are supported by the server."
   ]
  },
  {
   "cell_type": "code",
   "execution_count": null,
   "id": "b833eee7",
   "metadata": {},
   "outputs": [],
   "source": [
    "[op.name for op in csw.operations]"
   ]
  },
  {
   "cell_type": "markdown",
   "id": "7dc78bff",
   "metadata": {},
   "source": [
    "Now let's try searching the data"
   ]
  },
  {
   "cell_type": "code",
   "execution_count": null,
   "id": "88a9821f",
   "metadata": {},
   "outputs": [],
   "source": [
    "from owslib.fes import PropertyIsEqualTo, PropertyIsLike, BBox\n",
    "query = PropertyIsEqualTo('csw:AnyText', 'Lorem ipsum')\n",
    "csw.getrecords2(constraints=[query], maxrecords=20)\n",
    "csw.results"
   ]
  },
  {
   "cell_type": "markdown",
   "id": "ee448835",
   "metadata": {},
   "source": [
    "Now we have returned some metadata records let's see what they contain. "
   ]
  },
  {
   "cell_type": "code",
   "execution_count": null,
   "id": "7ccf3c61",
   "metadata": {},
   "outputs": [],
   "source": [
    "for rec in csw.records:\n",
    "    print(csw.records[rec].title)\n",
    "    print(csw.records[rec].abstract)\n",
    "    print(csw.records[rec].subjects)"
   ]
  },
  {
   "cell_type": "markdown",
   "id": "d435264b",
   "metadata": {},
   "source": [
    "This notebook just provides a simple introduction to searching a CSW, but you can insert, create, update, and harvest metadata all using OWSLib. See the [OWSLib CSW Documentation](https://owslib.readthedocs.io/en/latest/usage.html#csw) for more details."
   ]
  }
 ],
 "metadata": {
  "kernelspec": {
   "display_name": "Python 3 (ipykernel)",
   "language": "python",
   "name": "python3"
  },
  "language_info": {
   "codemirror_mode": {
    "name": "ipython",
    "version": 3
   },
   "file_extension": ".py",
   "mimetype": "text/x-python",
   "name": "python",
   "nbconvert_exporter": "python",
   "pygments_lexer": "ipython3",
   "version": "3.12.3"
  }
 },
 "nbformat": 4,
 "nbformat_minor": 5
}
