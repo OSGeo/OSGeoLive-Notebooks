{
 "cells": [
  {
   "cell_type": "markdown",
   "id": "f75ceabe",
   "metadata": {},
   "source": [
    "# OWSLib OGC Features API"
   ]
  },
  {
   "cell_type": "markdown",
   "id": "527f15e7",
   "metadata": {},
   "source": [
    "This notebook provides a quick introduction to using the [OGC Features API]() with the help of the OWSLib Python library. We'll connect to the [pygeoapi](https://live.osgeo.org/en/overview/pygeoapi_overview.html) demo services installed on OSGeoLive.\n",
    "\n",
    "Before running the notebook, ensure that the pygeoapi service is running. On the OSGeoLive Application Menu go to `Geospatial > Web Services > pygeoapi > Start pygeoapi`. Then check in a browser that the pygeoapi homepage is running at http://localhost:5000/.\n",
    "\n",
    "We will start by importing `owslib` and checking its version. This notebook has been tested with version `0.33.0`.\n",
    "As the new OGC APIs return JSON rather than XML (as with the older WxS services such as WFS) we will also import the the standard Python [json](https://docs.python.org/3.13/library/json.html) library to easily print and access data in JSON structures. \n",
    "\n",
    "Reading the OGC Features API can be easily done using the [requests](https://pypi.org/project/requests/) library (which OWSLib uses underneath), but using OWSLib helps with building more complex URLs, such as using [CQL](https://portal.ogc.org/files/96288) queries, adding and deleting features, handling authentication, and logging. "
   ]
  },
  {
   "cell_type": "code",
   "execution_count": null,
   "id": "f5e38749",
   "metadata": {},
   "outputs": [],
   "source": [
    "import owslib\n",
    "print(owslib.__version__)\n",
    "import json"
   ]
  },
  {
   "cell_type": "markdown",
   "id": "30595a18",
   "metadata": {},
   "source": [
    "pygeoapi supports multiple OGC APIs. Let's see what APIs are available on the pygeoapi demo. We can \"pretty-print\" these services using `json.dumps`, and setting the `indent` parameter. In this notebook we will be connecting to the `ogcapi-features` API. "
   ]
  },
  {
   "cell_type": "code",
   "execution_count": null,
   "id": "abf148a4",
   "metadata": {},
   "outputs": [],
   "source": [
    "from owslib.ogcapi.features import Features\n",
    "service = Features(\"http://localhost:5000\")\n",
    "print(json.dumps(service.conformance(), indent=4))"
   ]
  },
  {
   "cell_type": "markdown",
   "id": "bf7e5702",
   "metadata": {},
   "source": [
    "Different feature types are stored in collections. Let's explore what feature collections are available on the server."
   ]
  },
  {
   "cell_type": "code",
   "execution_count": null,
   "id": "4e395b3e",
   "metadata": {},
   "outputs": [],
   "source": [
    "# get the names of feature collections\n",
    "feature_collections = service.feature_collections()\n",
    "print(feature_collections)"
   ]
  },
  {
   "cell_type": "markdown",
   "id": "d128e534",
   "metadata": {},
   "source": [
    "There is only a single 'lakes' feature collection on the demo server. Let's see how many features the collection contains. "
   ]
  },
  {
   "cell_type": "code",
   "execution_count": null,
   "id": "00b7e702",
   "metadata": {},
   "outputs": [],
   "source": [
    "lake_features = service.collection_items('lakes')\n",
    "\n",
    "# print(json.dumps(lake_features, indent=4))\n",
    "print(f'Features returned in response: {len(lake_features['features'])}')\n",
    "\n",
    "# as paging is implemented only 10 features are returned in the collection\n",
    "print(f'Number returned: {lake_features['numberReturned']}')\n",
    "\n",
    "# we can see the full count using numberMatched\n",
    "print(f'Number matched: {lake_features['numberMatched']}')"
   ]
  },
  {
   "cell_type": "markdown",
   "id": "9690abea",
   "metadata": {},
   "source": [
    "Now we have connected to a service and accessed features as GeoJSON we can render them using [GeoPandas](https://geopandas.org/en/stable/). "
   ]
  },
  {
   "cell_type": "code",
   "execution_count": null,
   "id": "01225e4a",
   "metadata": {},
   "outputs": [],
   "source": [
    "import geopandas as gpd\n",
    "import matplotlib.pyplot as plt\n",
    "%matplotlib inline\n",
    "\n",
    "gdf = gpd.GeoDataFrame.from_features(\n",
    "    lake_features[\"features\"],  # pass the 'features' list\n",
    ")\n",
    "\n",
    "first_feature = gdf.iloc[[0]]  # use [[0]] to keep it as a GeoDataFrame\n",
    "first_feature.plot()\n",
    "plt.title(f\"{first_feature['name'].values[0]}\")  # set the title to the lake name\n",
    "plt.show()"
   ]
  },
  {
   "cell_type": "markdown",
   "id": "a15b19e5",
   "metadata": {},
   "source": [
    "We can setup logging in OWSLib to capture request URLs and parameters. We'll do that below, and then get a list of all attributes in the 'lakes' collection using `collection_queryables`. "
   ]
  },
  {
   "cell_type": "code",
   "execution_count": null,
   "id": "127af9f0",
   "metadata": {
    "scrolled": false
   },
   "outputs": [],
   "source": [
    "import logging\n",
    "owslib_logger = logging.getLogger('owslib')\n",
    "owslib_logger.setLevel(logging.DEBUG)\n",
    "stream_handler = logging.StreamHandler()\n",
    "\n",
    "# add the handler to the logger (avoid adding multiple handlers accidentally)\n",
    "if not any(isinstance(h, logging.StreamHandler) for h in owslib_logger.handlers):\n",
    "    owslib_logger.addHandler(stream_handler)\n",
    "    \n",
    "print(json.dumps(service.collection_queryables('lakes'), indent=4))"
   ]
  },
  {
   "cell_type": "markdown",
   "id": "7691f49d",
   "metadata": {},
   "source": [
    "Finally we'll query the `name` attribute to return a single lake feature."
   ]
  },
  {
   "cell_type": "code",
   "execution_count": null,
   "id": "7a15e1fe",
   "metadata": {},
   "outputs": [],
   "source": [
    "lake_victoria = service.collection_items('lakes', name='Lake Victoria')\n",
    "\n",
    "gdf = gpd.GeoDataFrame.from_features(\n",
    "    lake_victoria[\"features\"]\n",
    ")\n",
    "\n",
    "gdf.iloc[[0]].plot()\n",
    "plt.title(\"Lake Victoria\")\n",
    "plt.show()"
   ]
  },
  {
   "cell_type": "markdown",
   "id": "bcaf086a",
   "metadata": {},
   "source": [
    "For further details please see the [OWSLib Documentation](https://owslib.readthedocs.io/en/latest/usage.html#ogc-api). "
   ]
  }
 ],
 "metadata": {
  "kernelspec": {
   "display_name": "Python 3 (ipykernel)",
   "language": "python",
   "name": "python3"
  },
  "language_info": {
   "codemirror_mode": {
    "name": "ipython",
    "version": 3
   },
   "file_extension": ".py",
   "mimetype": "text/x-python",
   "name": "python",
   "nbconvert_exporter": "python",
   "pygments_lexer": "ipython3",
   "version": "3.12.3"
  }
 },
 "nbformat": 4,
 "nbformat_minor": 5
}
