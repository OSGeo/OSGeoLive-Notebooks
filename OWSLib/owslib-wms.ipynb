{
 "cells": [
  {
   "cell_type": "markdown",
   "id": "7bc60b6a",
   "metadata": {},
   "source": [
    "# Download a WMS Image from MapServer"
   ]
  },
  {
   "cell_type": "markdown",
   "id": "78e81b02",
   "metadata": {},
   "source": [
    "In this notebook we will connect to the MapServer demo on OSGeoLive and download a WMS image."
   ]
  },
  {
   "cell_type": "code",
   "execution_count": null,
   "id": "f282e4ac",
   "metadata": {},
   "outputs": [],
   "source": [
    "from owslib.wms import WebMapService\n",
    "\n",
    "url = \"http://localhost/cgi-bin/mapserv?map=/usr/local/www/docs_maps/mapserver_demos/itasca/itasca.map\"\n",
    "wms = WebMapService(url, version='1.3.0')\n",
    "print(wms.identification.title)"
   ]
  },
  {
   "cell_type": "markdown",
   "id": "86e30e02",
   "metadata": {},
   "source": [
    "Now let's list all the layers available in the service. "
   ]
  },
  {
   "cell_type": "code",
   "execution_count": null,
   "id": "046a9101",
   "metadata": {},
   "outputs": [],
   "source": [
    "list(wms.contents)"
   ]
  },
  {
   "cell_type": "markdown",
   "id": "7dc9345d",
   "metadata": {},
   "source": [
    "We can get further details about a layer."
   ]
  },
  {
   "cell_type": "code",
   "execution_count": null,
   "id": "d56dbe13",
   "metadata": {},
   "outputs": [],
   "source": [
    "print(wms['mcd90py2'].title)\n",
    "print(wms['mcd90py2'].boundingBox)\n",
    "print(wms['mcd90py2'].crsOptions)\n"
   ]
  },
  {
   "cell_type": "markdown",
   "id": "501e61d1",
   "metadata": {},
   "source": [
    "Now we have enough details to request a map. We'll use the `bbox` of the \"Minor Civil Divisions\" layer, and request the `ITASCA` layer, which is the top-level layer of the WMS service that contains all other layer. "
   ]
  },
  {
   "cell_type": "code",
   "execution_count": null,
   "id": "fd68c267",
   "metadata": {},
   "outputs": [],
   "source": [
    "from IPython.display import display, Image\n",
    "img = wms.getmap(layers=['ITASCA'], srs='EPSG:26915', bbox=(393234.0, 5207990.0, 495770.0, 5305370.0), \n",
    "                 size=(800, 800), format='image/png', transparent=True)\n",
    "\n",
    "display(Image(data=img.read()))"
   ]
  },
  {
   "cell_type": "code",
   "execution_count": null,
   "id": "ad73d0b6",
   "metadata": {},
   "outputs": [],
   "source": []
  }
 ],
 "metadata": {
  "kernelspec": {
   "display_name": "Python 3 (ipykernel)",
   "language": "python",
   "name": "python3"
  },
  "language_info": {
   "codemirror_mode": {
    "name": "ipython",
    "version": 3
   },
   "file_extension": ".py",
   "mimetype": "text/x-python",
   "name": "python",
   "nbconvert_exporter": "python",
   "pygments_lexer": "ipython3",
   "version": "3.12.3"
  }
 },
 "nbformat": 4,
 "nbformat_minor": 5
}
