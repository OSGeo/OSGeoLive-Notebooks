{
 "cells": [
  {
   "cell_type": "markdown",
   "id": "0e981ab4",
   "metadata": {},
   "source": [
    "# Inspecting WPS Processes"
   ]
  },
  {
   "cell_type": "markdown",
   "id": "7a4fcc56",
   "metadata": {},
   "source": [
    "This notebook shows how to connect to the PyWPS demo on OSGeoLive. First let's connect to the demo server. "
   ]
  },
  {
   "cell_type": "code",
   "execution_count": null,
   "id": "8de49d87",
   "metadata": {},
   "outputs": [],
   "source": [
    "from owslib.wps import WebProcessingService\n",
    "wps = WebProcessingService('http://localhost/pywps/wps.py?')\n",
    "print(wps.identification)"
   ]
  },
  {
   "cell_type": "markdown",
   "id": "f71d9d42",
   "metadata": {},
   "source": [
    "Now let's see what processes are available. "
   ]
  },
  {
   "cell_type": "code",
   "execution_count": null,
   "id": "bf868ae4",
   "metadata": {},
   "outputs": [],
   "source": [
    "for process in wps.processes:\n",
    "    print(f\"Identifier: {process.identifier}: Title: {process.title}\")"
   ]
  },
  {
   "cell_type": "markdown",
   "id": "e63b79d8",
   "metadata": {},
   "source": [
    "The server has a single process with an identifier of `say_hello`. Now let's see what parameters should be sent to the process to execute it. "
   ]
  },
  {
   "cell_type": "code",
   "execution_count": null,
   "id": "6ef1a5aa",
   "metadata": {
    "scrolled": true
   },
   "outputs": [],
   "source": [
    "from owslib.wps import printInputOutput\n",
    "\n",
    "say_hello_process = wps.describeprocess('say_hello')\n",
    "\n",
    "print(f\"Number of process inputs: {len(say_hello_process.dataInputs)}\")\n",
    "\n",
    "for process_input in say_hello_process.dataInputs:\n",
    "    printInputOutput(process_input)\n",
    "\n",
    "print(f\"Number of process outputs: {len(say_hello_process.processOutputs)}\")\n",
    "\n",
    "for process_output in say_hello_process.processOutputs:\n",
    "    printInputOutput(process_output)\n",
    "    "
   ]
  },
  {
   "cell_type": "markdown",
   "id": "efb4538b",
   "metadata": {},
   "source": [
    "Now we know the input parameter details, and what we expect it to return let's execute the process. The inputs are sent as a list of tuples in the form of `(key, value)`. "
   ]
  },
  {
   "cell_type": "code",
   "execution_count": null,
   "id": "3882aa1c",
   "metadata": {},
   "outputs": [],
   "source": [
    "inputs = [(\"name\", \"OWSLib\")]\n",
    "execution = wps.execute(say_hello_process.identifier, inputs)\n",
    "print(f\"Process complete? {execution.isComplete()}\")"
   ]
  },
  {
   "cell_type": "markdown",
   "id": "b00e3dfd",
   "metadata": {},
   "source": [
    "Finally we'll print out the data returned by the process. "
   ]
  },
  {
   "cell_type": "code",
   "execution_count": null,
   "id": "16cadfb3",
   "metadata": {},
   "outputs": [],
   "source": [
    "output_data = execution.processOutputs[0].data\n",
    "print(f\"Output data: {output_data}\")"
   ]
  },
  {
   "cell_type": "code",
   "execution_count": null,
   "id": "d9023467",
   "metadata": {},
   "outputs": [],
   "source": []
  }
 ],
 "metadata": {
  "kernelspec": {
   "display_name": "Python 3 (ipykernel)",
   "language": "python",
   "name": "python3"
  },
  "language_info": {
   "codemirror_mode": {
    "name": "ipython",
    "version": 3
   },
   "file_extension": ".py",
   "mimetype": "text/x-python",
   "name": "python",
   "nbconvert_exporter": "python",
   "pygments_lexer": "ipython3",
   "version": "3.12.3"
  }
 },
 "nbformat": 4,
 "nbformat_minor": 5
}
