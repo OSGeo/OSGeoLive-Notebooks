{
 "cells": [
  {
   "cell_type": "code",
   "execution_count": 1,
   "metadata": {},
   "outputs": [],
   "source": [
    "from matplotlib import pyplot\n",
    "from shapely.geometry import MultiLineString\n",
    "\n",
    "%matplotlib inline"
   ]
  },
  {
   "cell_type": "code",
   "execution_count": 2,
   "metadata": {},
   "outputs": [],
   "source": [
    "\n",
    "COLOR = {\n",
    "    True:  '#6699cc',\n",
    "    False: '#ffcc33'\n",
    "    }\n",
    "\n",
    "def v_color(ob):\n",
    "    return COLOR[ob.is_simple]\n",
    "\n",
    "def plot_coords(ax, ob):\n",
    "    for line in ob.geoms:\n",
    "        x, y = line.xy\n",
    "        ax.plot(x, y, 'o', color='#999999', zorder=1)\n",
    "\n",
    "def plot_bounds(ax, ob):\n",
    "    x, y = zip(*list((p.x, p.y) for p in ob.boundary.geoms))\n",
    "    ax.plot(x, y, 'o', color='#000000', zorder=1)\n",
    "\n",
    "def plot_lines(ax, ob):\n",
    "    for line in ob.geoms:\n",
    "        x, y = line.xy\n",
    "        ax.plot(x, y, color=v_color(ob), alpha=0.7, linewidth=3, solid_capstyle='round', zorder=2)\n",
    "\n"
   ]
  },
  {
   "cell_type": "code",
   "execution_count": 4,
   "metadata": {},
   "outputs": [
    {
     "data": {
      "image/png": "[encoded data removed]",
      "text/plain": [
       "<Figure size 1080x1800 with 2 Axes>"
      ]
     },
     "metadata": {
      "needs_background": "light"
     },
     "output_type": "display_data"
    }
   ],
   "source": [
    "fig = pyplot.figure(1, figsize=(12,20), dpi=90)\n",
    "\n",
    "# 1: disconnected multilinestring\n",
    "ax = fig.add_subplot(121)\n",
    "\n",
    "mline1 = MultiLineString([((0, 0), (1, 1)), ((0, 2),  (1, 1.5), (1.5, 1), (2, 0))])\n",
    "\n",
    "plot_coords(ax, mline1)\n",
    "plot_bounds(ax, mline1)\n",
    "plot_lines(ax, mline1)\n",
    "\n",
    "ax.set_title('a) simple')\n",
    "\n",
    "xrange = [-1, 3]\n",
    "yrange = [-1, 3]\n",
    "ax.set_xlim(*xrange)\n",
    "ax.set_xticks([-1, 0, 1, 2, 3])\n",
    "ax.set_ylim(*yrange)\n",
    "ax.set_yticks([-1, 0, 1, 2, 3])\n",
    "ax.set_aspect(1)\n",
    "\n",
    "#2: invalid self-touching ring\n",
    "ax = fig.add_subplot(122)\n",
    "\n",
    "mline2 = MultiLineString([((0, 0), (1, 1), (1.5, 1)), ((0, 2), (1, 1.5), (1.5, 1), (2, 0))])\n",
    "\n",
    "plot_coords(ax, mline2)\n",
    "plot_bounds(ax, mline2)\n",
    "plot_lines(ax, mline2)\n",
    "\n",
    "ax.set_title('b) complex')\n",
    "\n",
    "xrange = [-1, 3]\n",
    "yrange = [-1, 3]\n",
    "ax.set_xlim(*xrange)\n",
    "ax.set_xticks([-1, 0, 1, 2, 3])\n",
    "ax.set_ylim(*yrange)\n",
    "ax.set_yticks([-1, 0, 1, 2, 3])\n",
    "ax.set_aspect(1)\n",
    "\n",
    "pyplot.show()\n",
    "\n"
   ]
  },
  {
   "cell_type": "code",
   "execution_count": null,
   "metadata": {},
   "outputs": [],
   "source": []
  }
 ],
 "metadata": {
  "kernelspec": {
   "display_name": "Python 3",
   "language": "python",
   "name": "python3"
  },
  "language_info": {
   "codemirror_mode": {
    "name": "ipython",
    "version": 3
   },
   "file_extension": ".py",
   "mimetype": "text/x-python",
   "name": "python",
   "nbconvert_exporter": "python",
   "pygments_lexer": "ipython3",
   "version": "3.8.5"
  }
 },
 "nbformat": 4,
 "nbformat_minor": 2
}
