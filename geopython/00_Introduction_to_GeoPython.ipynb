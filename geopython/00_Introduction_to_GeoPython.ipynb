{
 "metadata": {
  "name": "",
  "signature": "sha256:a48df694026be2e8a521df107c0e1d5713ccb32e123d09a6f1d58c9d57ef9b23"
 },
 "nbformat": 3,
 "nbformat_minor": 0,
 "worksheets": [
  {
   "cells": [
    {
     "cell_type": "markdown",
     "metadata": {},
     "source": [
      "# GeoPython workshop (english)\n",
      "\n",
      "Welcome to GeoPython workshop. This workshop should give you brief overview about how to use Python when working \n",
      "with geospatial data."
     ]
    },
    {
     "cell_type": "markdown",
     "metadata": {},
     "source": [
      "## Motivation\n",
      "\n",
      "Why to use Python anyway?\n",
      "\n",
      "* Python makes fun\n",
      "* You don't really have to lear Python - you simply write it\n",
      "* It is the most geo-positive programming language around\n",
      "* Batteries included - many tools at hand (GDAL, PROJ4, Shapely, Fiona, Rasterio, MapServer Python MapScript, GeoServer gsconfig, OWSLib, PyWPS, pycsw, ...)\n",
      "* Support in desktop programs (GRASS GIS - PyGRASS, QGIS - PyQGIS, ...)\n",
      "* ..."
     ]
    },
    {
     "cell_type": "markdown",
     "metadata": {},
     "source": [
      "## Working environment\n",
      "\n",
      "### OSGeo-Live\n",
      "\n",
      "If you are using [OSGeo-live](https://live.osgeo.org) DVD, you should be fine. If something is missing, `pip install package_name` should fix it\n",
      "\n",
      "### Custom environment\n",
      "\n",
      "We advice you to work in [Virtual environment](http://docs.python-guide.org/en/latest/dev/virtualenvs/). Here is the list of dependences, we are going to need:\n",
      "\n",
      "```\n",
      "list of packages\n",
      "```\n",
      "\n",
      "## Workshop data\n",
      "\n",
      "Data are locate in /usr/local/share/data/\n",
     ]
    },
    {
     "cell_type": "markdown",
     "metadata": {},
     "source": [
      "## Further reading\n",
      "\n",
      "### Online books\n",
      "\n",
      "* Python GDAL/OGR Cookbook: http://pcjericks.github.io/py-gdalogr-cookbook/\n",
      "* Shapely manual: http://toblerity.github.io/shapely/manual.html\n",
      "* \\\"Python Geospatial Development\\\" book, Erik Westra: http://www.packtpub.com/python-geospatial-development/book\n",
      "* ...\n",
      "\n",
      "### Forums and documentation\n",
      "\n",
      "The GIS Stack Exchange: http://gis.stackexchange.com/\n",
      "\n",
      "(http://gis.stackexchange.com/?tags=python)\n",
      "\n",
      "Last but not least, https://www.google.com\n",
      "\n",
      "\n",
      "## License\n",
      "\n",
      "This material is supposed to be distributed align with Creative Commons Attribution-ShareAlike 4.0 International License.\n",
      "\n",
      "\n",
      "![CC-BY-SA](http://training.gismentors.eu/geopython/_images/cc-by-sa.png \\\"CC-BY-SA 4.0\\\")\n",
      "\n",
      "## Metadata\n",
      "\ufffc\n",
      "Workshop version: 0.1 \n",
      "\n",
      "### Authors\n",
      "\n",
      "[GISMentors](http://gismentors.eu):\n",
      "\n",
      "* J\u00e1chym \u010cepick\u00fd jachym.cepicky opengeolabs.cz\n",
      "* Martin Landa martin.landa opengeolabs.cz\n",
      "* Luca Delucchi lucadeluge gmail.com\n",
      "\n",
      "### Source\n",
      "\n",
      "Workshop source can be found at: https://github.com/GISMentors/geopython\""
     ]
    }
   ],
   "metadata": {}
  }
 ]
}
