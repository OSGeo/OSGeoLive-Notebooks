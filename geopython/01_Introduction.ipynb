{
 "metadata": {
  "name": "",
  "signature": "sha256:6feca76761c91d9b57f246a8a654444aadae52e4fbf59d0af871bbf850fc7257"
 },
 "nbformat": 3,
 "nbformat_minor": 0,
 "worksheets": [
  {
   "cells": [
    {
     "cell_type": "markdown",
     "metadata": {},
     "source": [
      "# Introduction\n",
      "\n",
      "[http://python.org](Python) is very popular programing language, which has it's supporters and haters. It's syntax is (if compared to other languages) specific among others because of the fact, no brackets are used - code blocks are separated by indentation. "
     ]
    },
    {
     "cell_type": "code",
     "collapsed": false,
     "input": [
      "# main function example\n",
      "\n",
      "def main(name):\n",
      "    \"\"\"Function doc string\n",
      "    \n",
      "    This function will print given name\n",
      "    \"\"\"\n",
      "    \n",
      "    print (\"Hallo, %s!\" % name)\n",
      "    \n",
      "main('world')"
     ],
     "language": "python",
     "metadata": {},
     "outputs": []
    },
    {
     "cell_type": "markdown",
     "metadata": {},
     "source": [
      "In the world of geomatics is Python very popular (and we can say, that it's popularity is growing). It's standing between simple scripting using SHELL commands nad more advanced coding on the sytem level in e.g. C. It can also be compared in some ways to Java platform. Most of the existing libraries and programs do have their API suitable for Python, like GDAL Python API.\n",
      "\n",
      "You can go pretty far with Python in today's world, we give you just short overview about the tools available for you by today:\n",
      "\n",
      "## Desktop\n",
      "* GRASS GIS: http://grass.osgeo.org\n",
      "* QGIS: http://qgis.org\n",
      "\n",
      "## Web\n",
      "* MapServer: http://mapserver.org\n",
      "* GeoServer: http://geoserver.org\n",
      "* TileCache: http://tilecache.org\n",
      "* PyWPS: http://pywps.wald.intevation.org\n",
      "* GeoDjango: http://geodjango.org\n",
      "\n",
      "## Tools and libraries\n",
      "* GDAL: http://gdal.org\n",
      "* Fiona: http://toblerity.org/fiona\n",
      "* Rasterio: https://github.com/mapbox/rasterio\n",
      "* PyProj: https://github.com/jswhit/pyproj\n",
      "* R (rpy2): http://rpy.sourceforge.net\n",
      "* Shapely: http://toblerity.org/shapely\n",
      "\n",
      "## Databases\n",
      "* PostGIS: http://postgis.net\n",
      "* SpatiaLite: https://www.gaia-gis.it/fossil/libspatialite/index\n",
      "* GeoAlchemy: http://geoalchemy.org\n",
      "* Specializovan\u00e9 n\u00e1stroje\n",
      "* TopoJSON: https://github.com/calvinmetcalf/topojson.py\n",
      "* RTree index: https://github.com/Toblerity/rtree\n",
      "\n",
      "The list is not complete by far of course.\n",
      "\n",
      "In the workshop, we will focus on the introduction to GDAL library and it's superstructures Rasterio and Fiona. We will have a look at OGC OWS services and how to interact with them with help of the OWSLib library and hopefully in the future, python-mapscript will be described too.\n",
      "\n",
      "The scope of the workshop is not complete  coveradge of GIS and Python topic. We would like to give you just and overview about the tools out there, on which more complex applications can be build. This tools are usually used in more up-level programs, so it is good if you have idea about how they work and their principles."
     ]
    },
    {
     "cell_type": "code",
     "collapsed": false,
     "input": [],
     "language": "python",
     "metadata": {},
     "outputs": []
    }
   ],
   "metadata": {}
  }
 ]
}
