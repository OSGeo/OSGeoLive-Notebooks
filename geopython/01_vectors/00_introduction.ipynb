{
 "metadata": {
  "name": "",
  "signature": "sha256:674089d2d251f2bccd49497db8b176556cb131d97286f72ea9d8521083c3254f"
 },
 "nbformat": 3,
 "nbformat_minor": 0,
 "worksheets": [
  {
   "cells": [
    {
     "cell_type": "markdown",
     "metadata": {},
     "source": [
      "# Vector data introduction\n",
      "\n",
      "Traditionly, we use GDAL/OGR library for interacting with vector data. Lately, Shapely library is becoming the popular too, as well as Fiona does.\n",
      "\n",
      "This workshop will focus on Fiona and OGR. [Fiona](http://toblerity.org/fiona/) is maitained by Sean Gillies. It is adding new layer on top of OGR, which is more compliant to what is common in Python. Compared to Fiona, with OGR more low-level data access can be achieved.\n",
      "\n",
      "[Next - Fiona library](01_fiona.ipynb)"
     ]
    },
    {
     "cell_type": "code",
     "collapsed": false,
     "input": [],
     "language": "python",
     "metadata": {},
     "outputs": []
    }
   ],
   "metadata": {}
  }
 ]
}