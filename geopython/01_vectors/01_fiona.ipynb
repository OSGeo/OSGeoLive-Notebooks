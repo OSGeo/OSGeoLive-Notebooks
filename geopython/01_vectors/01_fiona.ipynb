{
 "metadata": {
  "name": "",
  "signature": "sha256:62d36cffc32f6514af3382f7b685e7955e2a4ec17831682b32ded22c039d9a9e"
 },
 "nbformat": 3,
 "nbformat_minor": 0,
 "worksheets": [
  {
   "cells": [
    {
     "cell_type": "markdown",
     "metadata": {},
     "source": [
      "# Fiona\n",
      "\n",
      "[Fiona](http://toblerity.org/fiona/) is build on top of OGR and it introduces the object-oriented approach to the work with vector data. The data are re-mapped in to GeoJSON structure. The interaction is more straight-forward compared to OGR.\n",
      "\n",
      "Fiona is not suited to be the best for all tasks - simplicity is buyed back by the fact, all data need to be loaded in memmory. Also speed can be lower, when dealing with larger amounts of data. Where OGR uses pointers, Fiona has to deal with whole python objects. Generally: if you need to filter vector features, OGR should be faster, if you need to work with features sequentially, Fiona should be better.\n",
      "\n",
      "**Note**:\n",
      "> Fiona is great for binary data formats. For JSON, use the `json` python package. For data stored in database, use standard Python database interface."
     ]
    },
    {
     "cell_type": "markdown",
     "metadata": {},
     "source": [
      "First we need to create so called collection of features:"
     ]
    },
    {
     "cell_type": "code",
     "collapsed": false,
     "input": [
      "import fiona\n",
      "chko = fiona.open('/usr/local/share/data/north_carolina/shape/boundary_municp.shp', 'r') \n",
      "chko"
     ],
     "language": "python",
     "metadata": {},
     "outputs": []
    },
    {
     "cell_type": "markdown",
     "metadata": {},
     "source": [
      "We can now mine some metadata about this feature collection, see [documentation](http://toblerity.org/fiona/manual.html)"
     ]
    },
    {
     "cell_type": "code",
     "collapsed": false,
     "input": [
      "# driver\n",
      "chko.driver"
     ],
     "language": "python",
     "metadata": {},
     "outputs": []
    },
    {
     "cell_type": "code",
     "collapsed": false,
     "input": [
      "# coordinate reference system\n",
      "chko.crs"
     ],
     "language": "python",
     "metadata": {},
     "outputs": []
    },
    {
     "cell_type": "code",
     "collapsed": false,
     "input": [
      "# file name\n",
      "chko.path"
     ],
     "language": "python",
     "metadata": {},
     "outputs": []
    },
    {
     "cell_type": "code",
     "collapsed": false,
     "input": [
      "# layer name\n",
      "chko.name"
     ],
     "language": "python",
     "metadata": {},
     "outputs": []
    },
    {
     "cell_type": "code",
     "collapsed": false,
     "input": [
      "# bounding box coordinates\n",
      "chko.bounds"
     ],
     "language": "python",
     "metadata": {},
     "outputs": []
    },
    {
     "cell_type": "code",
     "collapsed": false,
     "input": [
      "# everything in one step\n",
      "print(chko.meta)"
     ],
     "language": "python",
     "metadata": {},
     "outputs": []
    },
    {
     "cell_type": "code",
     "collapsed": false,
     "input": [
      "# try better format\n",
      "import json\n",
      "print json.dumps(chko.meta, sort_keys=True, indent=4, separators=(',', ': '))"
     ],
     "language": "python",
     "metadata": {},
     "outputs": []
    },
    {
     "cell_type": "markdown",
     "metadata": {},
     "source": [
      "## Features in collections\n",
      "Features within opened collection can be iterated"
     ]
    },
    {
     "cell_type": "code",
     "collapsed": false,
     "input": [
      "print len(chko)"
     ],
     "language": "python",
     "metadata": {},
     "outputs": []
    },
    {
     "cell_type": "markdown",
     "metadata": {},
     "source": [
      "## Coordinate reference systems\n",
      "Fiona comes with primitive tools for dealing with coordinate reference systems, with GDAL library in the background"
     ]
    },
    {
     "cell_type": "code",
     "collapsed": false,
     "input": [
      "natural = fiona.open('/usr/local/share/data/north_carolina/shape/lakes.shp', 'r')\n",
      "from fiona.crs import to_string\n",
      "print(to_string(natural.crs))"
     ],
     "language": "python",
     "metadata": {},
     "outputs": []
    },
    {
     "cell_type": "markdown",
     "metadata": {},
     "source": [
      "Simillary, new CRS definition can be created"
     ]
    },
    {
     "cell_type": "code",
     "collapsed": false,
     "input": [
      "from fiona.crs import from_epsg\n",
      "from_epsg(3857)"
     ],
     "language": "python",
     "metadata": {},
     "outputs": []
    },
    {
     "cell_type": "markdown",
     "metadata": {},
     "source": [
      "## Walking through features\n",
      "we can either iterate through available features"
     ]
    },
    {
     "cell_type": "code",
     "collapsed": false,
     "input": [
      "for feature in chko[0:10]:\n",
      "    print feature['geometry']['type']"
     ],
     "language": "python",
     "metadata": {},
     "outputs": []
    },
    {
     "cell_type": "markdown",
     "metadata": {},
     "source": [
      "or particular feature can be choosed"
     ]
    },
    {
     "cell_type": "code",
     "collapsed": false,
     "input": [
      "print chko[54]['properties']['MB_NAME']"
     ],
     "language": "python",
     "metadata": {},
     "outputs": []
    },
    {
     "cell_type": "markdown",
     "metadata": {},
     "source": [
      "## Feature geometry and shapely library\n",
      "[Shapely](http://toblerity.org/shapely) converts feature geometry into GeoJSON structure. It also contains tools for geometry manipulations"
     ]
    },
    {
     "cell_type": "code",
     "collapsed": false,
     "input": [
      "from shapely.geometry import shape\n",
      "cr = chko[54]\n",
      "poly = shape(cr['geometry'])\n",
      "poly.bounds"
     ],
     "language": "python",
     "metadata": {},
     "outputs": []
    },
    {
     "cell_type": "markdown",
     "metadata": {},
     "source": [
      "Now we can either generalize given geometry or create buffer"
     ]
    },
    {
     "cell_type": "code",
     "collapsed": false,
     "input": [
      "simple = poly.simplify(10)\n",
      "simple.intersects(poly)\n",
      "buff = poly.buffer(10)\n",
      "buff.contains(poly)"
     ],
     "language": "python",
     "metadata": {},
     "outputs": []
    },
    {
     "cell_type": "markdown",
     "metadata": {},
     "source": [
      "some feature attributes can be fixed as well, at the end, we write new created feature down"
     ]
    },
    {
     "cell_type": "code",
     "collapsed": false,
     "input": [
      "from shapely.geometry import mapping\n",
      "import copy\n",
      "feature = copy.deepcopy(cr)\n",
      "feature['id'] = -1\n",
      "feature['geometry'] = mapping(buff)\n",
      "feature['properties']['MB_NAME'] = u'Mordor'\n",
      "chko = fiona.open('/usr/local/share/data/north_carolina/shape/boundary_municp.shp', 'a')\n",
      "print(\"Features before: %d \" % len(chko))\n",
      "chko.write(feature)\n",
      "print(\"Features after: %d \" % len(chko))\n",
      "chko.close()"
     ],
     "language": "python",
     "metadata": {},
     "outputs": []
    }
   ],
   "metadata": {}
  }
 ]
}
