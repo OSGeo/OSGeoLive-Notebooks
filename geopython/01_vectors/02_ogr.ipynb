{
 "metadata": {
  "name": "",
  "signature": "sha256:846f8af987f83e590e697d25088b491bc1caa5a4df508a473e8e48d0640e662f"
 },
 "nbformat": 3,
 "nbformat_minor": 0,
 "worksheets": [
  {
   "cells": [
    {
     "cell_type": "markdown",
     "metadata": {},
     "source": [
      "# OGR\n",
      "[OGR](http://gdal.org/ogr) is part of [GDAL](http://gdal.org/) library. It is traditional way how to interact with vector data. Currently it supports about 80 vector formats.\n",
      "\n",
      "OGR API overpasses differences between various vector formats, services, database etc.:\n",
      "\n",
      "* **Driver** - driver for reading and writing the data to specified format\n",
      "* **Data Source** - whatever source (file, database, service, ...)\n",
      "* **Layer** - data layer within the source (file content, database table, ...)\n",
      "* **Feature** - vector feature\n",
      "* **Field, Geometry** - attributes and geomtry\n",
      "\n",
      "![OGR API](http://training.gismentors.eu/geopython/_images/aafig-2532774d3eb3b9d2cd66862013ca5a161fd76217.svg \"OGR API\")\n",
      "\n",
      "\n",
      "OGR-Python interface is abstract API on top of original classes and methods of original C++ code. Also because of this, some approaches seem complicated, compared native Python code, like e.g. Fiona.\n",
      "\n",
      "Documentation: http://www.gdal.org/ogr_apitut.html\n",
      "\n",
      "API: http://gdal.org/python/"
     ]
    },
    {
     "cell_type": "markdown",
     "metadata": {},
     "source": [
      "## Buffer\n",
      "\n",
      "First we need to open *data source*"
     ]
    },
    {
     "cell_type": "code",
     "collapsed": false,
     "input": [
      "from osgeo import ogr\n",
      "ds = ogr.Open(\/usr/local/share/data/north_carolina/shape/boundary_municp.shp\")\n",
      "print(ds)\n",
      "print(ds.GetLayerCount())"
     ],
     "language": "python",
     "metadata": {},
     "outputs": []
    },
    {
     "cell_type": "markdown",
     "metadata": {},
     "source": [
      "Next we have to open *layer* (for files, there is usually no reason for separate layer within data source, but for example for database data source, a layer is reference to concrete table)."
     ]
    },
    {
     "cell_type": "code",
     "collapsed": false,
     "input": [
      "l = ds.GetLayer(0)\n",
      "print(l)\n",
      "print(l.GetFeatureCount())"
     ],
     "language": "python",
     "metadata": {},
     "outputs": []
    },
    {
     "cell_type": "markdown",
     "metadata": {},
     "source": [
      "Schema of the layer, definition of geometry type and attribution fields:"
     ]
    },
    {
     "cell_type": "code",
     "collapsed": false,
     "input": [
      "l.GetGeomType()"
     ],
     "language": "python",
     "metadata": {},
     "outputs": []
    },
    {
     "cell_type": "code",
     "collapsed": false,
     "input": [
      "l.GetGeomType() == ogr.wkbPolygon"
     ],
     "language": "python",
     "metadata": {},
     "outputs": []
    },
    {
     "cell_type": "code",
     "collapsed": false,
     "input": [
      "l.schema"
     ],
     "language": "python",
     "metadata": {},
     "outputs": []
    },
    {
     "cell_type": "code",
     "collapsed": false,
     "input": [
      "l.schema[4].name"
     ],
     "language": "python",
     "metadata": {},
     "outputs": []
    },
    {
     "cell_type": "markdown",
     "metadata": {},
     "source": [
      "Print MB_NAME attribute of all features"
     ]
    },
    {
     "cell_type": "code",
     "collapsed": false,
     "input": [
      "features_nr = l.GetFeatureCount()\n",
      "for i in range(features_nr):\n",
      "    f = l.GetNextFeature()\n",
      "    print f.GetField('MB_NAME')"
     ],
     "language": "python",
     "metadata": {},
     "outputs": []
    },
    {
     "cell_type": "markdown",
     "metadata": {},
     "source": [
      "Get vector feature bounding box (envelope):"
     ]
    },
    {
     "cell_type": "code",
     "collapsed": false,
     "input": [
      "f = l.GetFeature(54)\n",
      "geom = f.GetGeometryRef()\n",
      "geom.GetEnvelope()"
     ],
     "language": "python",
     "metadata": {},
     "outputs": []
    },
    {
     "cell_type": "markdown",
     "metadata": {},
     "source": [
      "Get geometry centroid"
     ]
    },
    {
     "cell_type": "code",
     "collapsed": false,
     "input": [
      "c = geom.Centroid()\n",
      "c.GetPoint()"
     ],
     "language": "python",
     "metadata": {},
     "outputs": []
    },
    {
     "cell_type": "markdown",
     "metadata": {},
     "source": [
      "Get geometry buffer"
     ]
    },
    {
     "cell_type": "code",
     "collapsed": false,
     "input": [
      "buff = c.Buffer(100)\n",
      "geom.Intersects(buff)"
     ],
     "language": "python",
     "metadata": {},
     "outputs": []
    },
    {
     "cell_type": "markdown",
     "metadata": {},
     "source": [
      "## Complete example\n",
      "\n",
      "In this example we will demonstrate work with vector data from begining to the end: open data set, metadata, attribute change, saving of new attribute back to the file. With Fiona, this would be about 3x simplier. However, OGR accesses the data on much lower level compared to Fiona, therefore bigger datasets can be interfaced."
     ]
    },
    {
     "cell_type": "code",
     "collapsed": false,
     "input": [
      "from osgeo import osr\n",
      "\n",
      "# Creating new file with new driver\n",
      "drv = ogr.GetDriverByName('GML')\n",
      "ds = drv.CreateDataSource('/tmp/out.gml')\n",
      "srs = osr.SpatialReference()\n",
      "srs.ImportFromEPSG(5514)\n",
      "print(srs.ExportToProj4())\n",
      "layer = ds.CreateLayer('out.gml', srs, ogr.wkbLineString)\n",
      "\n",
      "# create new attributes named and code\n",
      "field_name = ogr.FieldDefn('name', ogr.OFTString)\n",
      "field_name.SetWidth(24)\n",
      "field_number = ogr.FieldDefn('code', ogr.OFTInteger)\n",
      "layer.CreateField(field_name)\n",
      "layer.CreateField(field_number)\n",
      "\n",
      "# create new line geometry and read from WKT\n",
      "line = ogr.CreateGeometryFromWkt('LINESTRING(%f %f, %f %f)' % (0, 0, 1, 1))\n",
      "\n",
      "# create new feature, set attributes and geometry\n",
      "feature = ogr.Feature(layer.GetLayerDefn())\n",
      "feature.SetGeometry(line)\n",
      "feature.SetField(\"name\", 'the line')\n",
      "feature.SetField(\"code\", 42)\n",
      "\n",
      "layer.CreateFeature(feature)\n",
      "\n",
      "# final cleaning\n",
      "feature.Destroy()\n",
      "ds.Destroy()"
     ],
     "language": "python",
     "metadata": {},
     "outputs": []
    },
    {
     "cell_type": "markdown",
     "metadata": {},
     "source": [
      "now we can check the result"
     ]
    },
    {
     "cell_type": "code",
     "collapsed": false,
     "input": [
      "ds = ogr.Open('/tmp/out.gml')\n",
      "layer = ds.GetLayer(0)\n",
      "print(layer.GetFeatureCount())\n",
      "print(layer.GetFeature(0).GetField('name'))\n",
      "ds.Destroy()"
     ],
     "language": "python",
     "metadata": {},
     "outputs": []
    },
    {
     "cell_type": "code",
     "collapsed": false,
     "input": [],
     "language": "python",
     "metadata": {},
     "outputs": []
    }
   ],
   "metadata": {}
  }
 ]
}
