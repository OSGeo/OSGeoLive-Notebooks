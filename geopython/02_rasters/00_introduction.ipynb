{
 "metadata": {
  "name": "",
  "signature": "sha256:431a0b2f43c0aab0b85ddb47364cc7e358130f4c976a610c8466abc4db9e352c"
 },
 "nbformat": 3,
 "nbformat_minor": 0,
 "worksheets": [
  {
   "cells": [
    {
     "cell_type": "markdown",
     "metadata": {},
     "source": [
      "Raster data can be, when compared to vectors, much bigger and therefore workflow has to be adjusted. \n",
      "\n",
      "Rasterdata are usually organised in to matrix, with cells containgin numbers and refered to as 'pixels'.\n",
      "\n",
      "Usually, GDAL library is used for interacting with raster data. GDAL is low-level library and accesses to the data with not so efficient, yet scalable and stable way. Alternative to GDAL is RasterIO library (which is build on top of GDAL too). We can see there analogy to OGR and Fiona librarys we already metioned."
     ]
    }
   ],
   "metadata": {}
  }
 ]
}