{
 "metadata": {
  "name": "",
  "signature": "sha256:41cb00782cc41e983258718c77c0f800cee6b95fdc8c1bf923d824cc56fc15bd"
 },
 "nbformat": 3,
 "nbformat_minor": 0,
 "worksheets": [
  {
   "cells": [
    {
     "cell_type": "markdown",
     "metadata": {},
     "source": [
      "# RasterIO\n",
      "\n",
      "RasterIO library is another work of Sean Gillies, this time as one of the results of his activities in MapBox. RasterIO deals with raster geographic datasets. \n",
      "\n",
      "RasterIO converts the data to NumPy structures (similar to Fiona, which converts vectors to GeoJSON structure)."
     ]
    },
    {
     "cell_type": "markdown",
     "metadata": {},
     "source": [
      "In following example, we will open GeoTIFF file"
     ]
    },
    {
     "cell_type": "code",
     "collapsed": false,
     "input": [
      "import rasterio\n",
      "src = rasterio.open('/usr/local/share/data/north_carolina/raster/lsat7_2002_30.tif')\n",
      "\n",
      "# print metadata\n",
      "print(src.bounds)\n",
      "\n",
      "print(src.crs)\n",
      "\n",
      "print(src.tags())\n",
      "\n",
      "print((src.width, src.height))\n",
      "\n",
      "print(src.res)"
     ],
     "language": "python",
     "metadata": {},
     "outputs": []
    },
    {
     "cell_type": "markdown",
     "metadata": {},
     "source": [
      "![RGB file](http://training.gismentors.eu/geopython/_images/rgb.png)\n"
     ]
    },
    {
     "cell_type": "markdown",
     "metadata": {},
     "source": [
      "Let's read some raster bands"
     ]
    },
    {
     "cell_type": "code",
     "collapsed": false,
     "input": [
      "data = src.read()\n",
      "print(len(data))"
     ],
     "language": "python",
     "metadata": {},
     "outputs": []
    },
    {
     "cell_type": "code",
     "collapsed": false,
     "input": [
      "src2 = rasterio.open('/usr/local/share/data/north_carolina/raster/lsat7_2002_40.tif')\n",
      "data2 = src2.read()"
     ],
     "language": "python",
     "metadata": {},
     "outputs": []
    },
    {
     "cell_type": "markdown",
     "metadata": {},
     "source": [
      "We can see, that there are 3 color bands in given rater file. Let's create new file, containing NDVI (Normalized Difference Vegetation Index - ):\n",
      "\n",
      "    NDVI=(NIR\u2212VIS)/(NIR+VIS)\n"
     ]
    },
    {
     "cell_type": "markdown",
     "metadata": {},
     "source": [
      "First we have to create new matrix for resulting data. Then we insert result of the calculation to each cell. \n",
      "\n",
      "We will be working actually with NumPy structures, which is designed for work with large array fields."
     ]
    },
    {
     "cell_type": "code",
     "collapsed": false,
     "input": [
      "(nir, vis) = (data[0], data2[0])\n",
      "ndvi = (nir - vis) / (nir + vis)\n",
      "print(ndvi.min())\n",
      "print(ndvi.max())"
     ],
     "language": "python",
     "metadata": {},
     "outputs": []
    },
    {
     "cell_type": "markdown",
     "metadata": {},
     "source": [
      "Let us now create new raster file, with LWZ compression, encoded in float64 type. The file shall have one band and will use the GeoTIFF format."
     ]
    },
    {
     "cell_type": "code",
     "collapsed": false,
     "input": [
      "kwargs = src.meta\n",
      "kwargs.update(dtype=rasterio.float64, count=1, compress='lzw')\n",
      "with rasterio.open('/tmp/ndvi.tif', 'w', **kwargs) as dst:\n",
      "    dst.write_band(1, ndvi.astype(rasterio.float64))"
     ],
     "language": "python",
     "metadata": {},
     "outputs": []
    },
    {
     "cell_type": "markdown",
     "metadata": {},
     "source": [
      "![NDVI file](http://training.gismentors.eu/geopython/_images/ndvi.png)\n"
     ]
    },
    {
     "cell_type": "code",
     "collapsed": false,
     "input": [],
     "language": "python",
     "metadata": {},
     "outputs": []
    }
   ],
   "metadata": {}
  }
 ]
}
