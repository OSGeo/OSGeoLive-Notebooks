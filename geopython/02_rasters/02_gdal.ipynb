{
 "metadata": {
  "name": "",
  "signature": "sha256:434defa230025374b81306cde866d4d29c5788203bb08270f424bd1d865943a1"
 },
 "nbformat": 3,
 "nbformat_minor": 0,
 "worksheets": [
  {
   "cells": [
    {
     "cell_type": "markdown",
     "metadata": {},
     "source": [
      "# GDAL\n",
      "GDAL library is fundament of most open source GIS projects (which are not living in Java programing language domain). GDAL enables the work with raster data (and part of GDAL distribution is always OGR for vector data). Currently, GDAL supports about 130 different raster data formats.\n",
      "\n",
      "The concept of raster data is similar to vector data:\n",
      "\n",
      "Driver - the data format driver\n",
      "DataSource - actual source, from which you can read or to which you can save the data\n",
      "RasterBand - one color band. By some sources, only one band is available. Sometimes there are many (e.g. by hyperspectral raster data)\n",
      "\n",
      "![GDAL raster architecture](http://training.gismentors.eu/geopython/_images/aafig-074776e99274e26413df5de5e733395353fd7783.svg)\n",
      "\n",
      "More information about GDAL abstract model of raster data is to be found at http://gdal.org/gdal_datamodel.html\n",
      "\n",
      "Among importat raster file characteristics belongs resolution (pixel size in map units) and it's bounding box coordinates."
     ]
    },
    {
     "cell_type": "markdown",
     "metadata": {},
     "source": [
      "## Example: Creating new raster file from matrix values\n",
      "\n",
      "In this example, we create empty raster file and fill it with matrix of values. Result will be stored into the file in GeoTIFF format."
     ]
    },
    {
     "cell_type": "markdown",
     "metadata": {},
     "source": [
      "First, few values have to be set - matrix size (pixel size), NODATA value, name of the file and extent of the data:"
     ]
    },
    {
     "cell_type": "code",
     "collapsed": false,
     "input": [
      "from osgeo import gdal, ogr, osr\n",
      "\n",
      "pixel_size = 20\n",
      "NoData_value = -9999\n",
      "\n",
      "raster_fn = 'test.tif'\n",
      "x_min, x_max, y_min, y_max = (0, 100, 0, 100)"
     ],
     "language": "python",
     "metadata": {},
     "outputs": []
    },
    {
     "cell_type": "markdown",
     "metadata": {},
     "source": [
      "In the next step, we will calculate spatial resolution (pixel size):"
     ]
    },
    {
     "cell_type": "code",
     "collapsed": false,
     "input": [
      "x_res = int((x_max - x_min) / pixel_size)\n",
      "y_res = int((y_max - y_min) / pixel_size)"
     ],
     "language": "python",
     "metadata": {},
     "outputs": []
    },
    {
     "cell_type": "markdown",
     "metadata": {},
     "source": [
      "Now new data source for raster data can be created. First we have to create instance of Driver object for desired format and then we create empty file. For this, we have to specify\n",
      "\n",
      "* file name\n",
      "* resolution in x and y direction\n",
      "* number of bands\n",
      "* data type\n",
      "\n",
      "Then transformation parameters similar to content of the World File has to be set:\u00fdvaj\u00ed ulo\u017eeny v tzv. world file souboru:\n",
      "\n",
      "* coordinate of left-upper corner X\n",
      "* x-resolution\n",
      "* rotation in x direction\n",
      "* coordiante of left-upper corner Y\n",
      "* y-resolution\n",
      "* rotation in y direction"
     ]
    },
    {
     "cell_type": "code",
     "collapsed": false,
     "input": [
      "target_driver = gdal.GetDriverByName('GTiff')\n",
      "target_ds = target_driver.Create(raster_fn, x_res, y_res, 1, gdal.GDT_Byte)\n",
      "target_ds.SetGeoTransform((x_min, pixel_size, 0, y_max, 0, -pixel_size))"
     ],
     "language": "python",
     "metadata": {},
     "outputs": []
    },
    {
     "cell_type": "markdown",
     "metadata": {},
     "source": [
      "In the next step, we write data to selected band (first band has index of 1 and not 0). You can write data in the NumPy matrix format."
     ]
    },
    {
     "cell_type": "code",
     "collapsed": false,
     "input": [
      "band = target_ds.GetRasterBand(1)\n",
      "\n",
      "import numpy as np\n",
      "band.WriteArray(np.array([[0, 0, 0, 0, 0],\n",
      "                  [0, 10, 15, 10, 0],\n",
      "                  [0, 15, 25, 15, 0],\n",
      "                  [0, 10, 15, 10, 0],\n",
      "                  [0, 0, 0, 0, 0]]))"
     ],
     "language": "python",
     "metadata": {},
     "outputs": []
    },
    {
     "cell_type": "markdown",
     "metadata": {},
     "source": [
      "In the next step, we define coordinate reference system. For this, Well-known-text (WKT) format has to be used. Based on it's EPSG code, the WKT format you get like this:"
     ]
    },
    {
     "cell_type": "code",
     "collapsed": false,
     "input": [
      "outRasterSRS = osr.SpatialReference()\n",
      "outRasterSRS.ImportFromEPSG(3857)\n",
      "target_ds.SetProjection(outRasterSRS.ExportToWkt()) # !!! different to vector data"
     ],
     "language": "python",
     "metadata": {},
     "outputs": []
    },
    {
     "cell_type": "markdown",
     "metadata": {},
     "source": [
      "And at the end, you should always clean the cache to make sure, all the data are written to hard drive (yes, here is the C++ world wawing at us)"
     ]
    },
    {
     "cell_type": "code",
     "collapsed": false,
     "input": [
      "band.FlushCache()"
     ],
     "language": "python",
     "metadata": {},
     "outputs": []
    },
    {
     "cell_type": "markdown",
     "metadata": {},
     "source": [
      "## Rasterization of vector data\n",
      "\n",
      "Next desired operation could be transforamtion from vector data to raster data representation. The beginning is similar as in the example above:"
     ]
    },
    {
     "cell_type": "code",
     "collapsed": false,
     "input": [
      "from osgeo import gdal, ogr, osr\n",
      "\n",
      "# pixel resolution\n",
      "pixel_size = 50\n",
      "NoData_value = -9999\n",
      "\n",
      "# resulting file name\n",
      "raster_fn = 'chko.tif'"
     ],
     "language": "python",
     "metadata": {},
     "outputs": []
    },
    {
     "cell_type": "markdown",
     "metadata": {},
     "source": [
      "Let's open vector data source"
     ]
    },
    {
     "cell_type": "code",
     "collapsed": false,
     "input": [
      "vector_fn = '/usr/local/share/data/north_carolina/shape/boundary_county.shp'\n",
      "\n",
      "# open the data source\n",
      "source_ds = ogr.Open(vector_fn)\n",
      "\n",
      "# get vector layer\n",
      "source_layer = source_ds.GetLayer()"
     ],
     "language": "python",
     "metadata": {},
     "outputs": []
    },
    {
     "cell_type": "markdown",
     "metadata": {},
     "source": [
      "Now we can find out desired extent of input vector data and use it for resulting raster data creation"
     ]
    },
    {
     "cell_type": "code",
     "collapsed": false,
     "input": [
      "# get the bounding box\n",
      "x_min, x_max, y_min, y_max = source_layer.GetExtent()\n",
      "\n",
      "# create resulting data source\n",
      "x_n = int((x_max - x_min) / pixel_size) # number of pixels\n",
      "y_n = int((y_max - y_min) / pixel_size)\n",
      "tiff_driver = gdal.GetDriverByName('GTiff')\n",
      "\n",
      "# 3 bands will be used\n",
      "target_ds = tiff_driver.Create(raster_fn, x_n, y_n, 3, gdal.GDT_Byte)\n",
      "target_ds.SetGeoTransform((x_min, pixel_size, 0, y_max, 0, -pixel_size))"
     ],
     "language": "python",
     "metadata": {},
     "outputs": []
    },
    {
     "cell_type": "markdown",
     "metadata": {},
     "source": [
      "Let's copy information about coordinate reference system (S-JTSK EPSG:5514) from the source to target data source:"
     ]
    },
    {
     "cell_type": "code",
     "collapsed": false,
     "input": [
      "outRasterSRS = osr.SpatialReference()\n",
      "outRasterSRS.ImportFromEPSG(5514)\n",
      "target_ds.SetProjection(outRasterSRS.ExportToWkt()) # again, this is different to vectors"
     ],
     "language": "python",
     "metadata": {},
     "outputs": []
    },
    {
     "cell_type": "markdown",
     "metadata": {},
     "source": [
      "Now we are able to call RasterizeLayer() function with following parameters:\n",
      "\n",
      "* target data source\n",
      "* raster bands\n",
      "* source data source\n",
      "* pixel values for given bands\n",
      "* aditional parameters"
     ]
    },
    {
     "cell_type": "code",
     "collapsed": false,
     "input": [
      "gdal.RasterizeLayer(target_ds,\n",
      "    [1, 2, 3],\n",
      "    source_layer,\n",
      "    burn_values=[255,125,0],\n",
      "    options=['ALL_TOUCHED=TRUE']) # no spaces around '='"
     ],
     "language": "python",
     "metadata": {},
     "outputs": []
    },
    {
     "cell_type": "markdown",
     "metadata": {},
     "source": [
      "and clean the memory again"
     ]
    },
    {
     "cell_type": "code",
     "collapsed": false,
     "input": [
      "target_ds.FlushCache()"
     ],
     "language": "python",
     "metadata": {},
     "outputs": []
    },
    {
     "cell_type": "markdown",
     "metadata": {},
     "source": [
      "![GDAL RasterizeLayer](http://training.gismentors.eu/geopython/_images/chko.png)"
     ]
    },
    {
     "cell_type": "code",
     "collapsed": false,
     "input": [],
     "language": "python",
     "metadata": {},
     "outputs": []
    }
   ],
   "metadata": {}
  }
 ]
}
