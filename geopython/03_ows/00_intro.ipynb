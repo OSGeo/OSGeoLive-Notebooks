{
 "metadata": {
  "name": "",
  "signature": "sha256:19930e57bad1e6e9d87343012173450bd3abfe848e8e72ad6de65ab0095d62f0"
 },
 "nbformat": 3,
 "nbformat_minor": 0,
 "worksheets": [
  {
   "cells": [
    {
     "cell_type": "markdown",
     "metadata": {},
     "source": [
      "# Interaction with OGC OWS from Python\n",
      "\n",
      "\n",
      "Open Geospatial Consortium (OGC) is international standard organisation. It's members are developing and maintaining standards for geospatial data and web services. Among most known standards belongs format Geography Markup Language (GML), Keyhole Markup Language (KML) and so called open web services (OGC OWS), which includes Web Mapping Service (OGC WMS), Web Feature Service (OGC WFS), Web Coveradge Service (OGC WCS) and others."
     ]
    },
    {
     "cell_type": "markdown",
     "metadata": {},
     "source": [
      "\n",
      "OGC OWS defines communication between server and client, where client (your computer) is sending requests to the server (computer, where are the data and you can access them throu the service). Server is responding usually with XML file. Request has usually form of URL with input parameters separated with & mark, for example:\n",
      "        \n",
      "    http://server/service/request=GetCapabilies&service=WMS"
     ]
    },
    {
     "cell_type": "markdown",
     "metadata": {},
     "source": [
      "IN this case, two parameters are part of the reuquest: `request` with valuee `GetCapabilities` and `service` with value `WMS`."
     ]
    },
    {
     "cell_type": "markdown",
     "metadata": {},
     "source": [
      "Another option usually is, to send the request in form of XML file via HTTP POST interface of the server, for example:\n",
      "\n",
      "    <wps:GetCapabilities xmlns:wps=\"http://www.opengis.net/wps/1.0.0\" ...>\n",
      "         <ows:Identifier>Buffer</ows:Identifier>\n",
      "    </wps:Execute>"
     ]
    },
    {
     "cell_type": "markdown",
     "metadata": {},
     "source": [
      "Forming requests and parsing response from various server implementations and standards could be tricky. Therefore `OWSLib` library was written, which makes life of coders easier."
     ]
    }
   ],
   "metadata": {}
  }
 ]
}
