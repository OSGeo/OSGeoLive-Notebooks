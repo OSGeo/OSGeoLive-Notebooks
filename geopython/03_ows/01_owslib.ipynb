{
 "metadata": {
  "name": "",
  "signature": "sha256:f16bdfdef2fe3faf1df843d23dec527f5cc0c87e6b1cd2dec526c659a0194b02"
 },
 "nbformat": 3,
 "nbformat_minor": 0,
 "worksheets": [
  {
   "cells": [
    {
     "cell_type": "markdown",
     "metadata": {},
     "source": [
      "## OWSLib\n",
      "\n",
      "[OGC OWSlib](http://geopython.github.io/OWSLib) is interface from the Python language for OGC OWS. The library enables you to connect to the services as client. Currently WMS, WFS, WCS, CSW, WPS, SOS, WMC and others (the list is growing). \n",
      "\n",
      "Documentation: http://geopython.github.io/OWSLib/\n"
     ]
    },
    {
     "cell_type": "markdown",
     "metadata": {},
     "source": [
      "### OGC CSW\n",
      "\n",
      "First think you need, when you want to use some web service, is to know, where it is located. For this purpose, catalogues are build - special services with list of avaliable data, services and application out there - actually list of their metadata. OGC CSW is used very much in european INSPIRE directive and the main entry point for Czech national INSPIRE geoportal is located at http://geoportal.gov.cz/php/micka/csw/index.php (web interface can be found at http://inspire.gov.cz)."
     ]
    },
    {
     "cell_type": "markdown",
     "metadata": {},
     "source": [
      "Let's read some metadata"
     ]
    },
    {
     "cell_type": "code",
     "collapsed": false,
     "input": [
      "from owslib.csw import CatalogueServiceWeb\n",
      "thecsw = CatalogueServiceWeb('http://geoportal.gov.cz/php/micka/csw/index.php')\n",
      "print(thecsw.service)"
     ],
     "language": "python",
     "metadata": {},
     "outputs": []
    },
    {
     "cell_type": "markdown",
     "metadata": {},
     "source": [
      "Download the records"
     ]
    },
    {
     "cell_type": "code",
     "collapsed": false,
     "input": [
      "thecsw.getrecords2()\n",
      "print(thecsw.results)"
     ],
     "language": "python",
     "metadata": {},
     "outputs": []
    },
    {
     "cell_type": "markdown",
     "metadata": {},
     "source": [
      "Check out some attributes of found records:"
     ]
    },
    {
     "cell_type": "code",
     "collapsed": false,
     "input": [
      "for rec in thecsw.records:\n",
      "    print thecsw.records[rec].title"
     ],
     "language": "python",
     "metadata": {},
     "outputs": []
    },
    {
     "cell_type": "markdown",
     "metadata": {},
     "source": [
      "### Filters\n",
      "\n",
      "With CSW, you can use another standard of OGC: Filter Encoding Sepcification (FES). Filters can use attributes or geometry. In following example, we will define two filters: records with keyword 'WMS' and with data covering city Prague."
     ]
    },
    {
     "cell_type": "code",
     "collapsed": false,
     "input": [
      "from owslib.fes import PropertyIsLike, BBox, And, PropertyIsEqualTo\n",
      "\n",
      "wms_query = PropertyIsEqualTo('csw:AnyText', 'WMS')\n",
      "praha_query = BBox([14.22,49.94,14.71,50.18])\n",
      "praha_and_wms = And([praha_query, wms_query])\n",
      "\n",
      "thecsw.getrecords2([praha_and_wms], esn='full')\n",
      "print thecsw.results\n",
      "\n",
      "for recid in thecsw.records:\n",
      "    record = thecsw.records[recid]\n",
      "    print record.title, record.bbox.minx, record.bbox.miny, record.bbox.maxx, record.bbox.maxy"
     ],
     "language": "python",
     "metadata": {},
     "outputs": []
    },
    {
     "cell_type": "markdown",
     "metadata": {},
     "source": [
      "Find out attributes of metadata record:"
     ]
    },
    {
     "cell_type": "code",
     "collapsed": false,
     "input": [
      "zm_query = PropertyIsEqualTo('csw:AnyText', 'ZM10')\n",
      "thecsw.getrecords2([zm_query], esn='full')\n",
      "zm10 = thecsw.records['CZ-CUZK-WMS-ZM10-P']\n",
      "\n",
      "print(\"Service: %s\" % zm10.type)\n",
      "\n",
      "print(\"Title: %s\" % zm10.title)\n",
      "\n",
      "print(\"Abstract: %s\" % zm10.abstract)\n",
      "\n",
      "zm10_url = zm10.references[0]['url']\n",
      "\n",
      "print(\"Service end point: %s\" % zm10_url)"
     ],
     "language": "python",
     "metadata": {},
     "outputs": []
    },
    {
     "cell_type": "markdown",
     "metadata": {},
     "source": [
      "### OGC WMS\n",
      "\n",
      "OGC Web Map Service is there for downloading rendered images of the map."
     ]
    },
    {
     "cell_type": "code",
     "collapsed": false,
     "input": [
      "from owslib.wms import WebMapService\n",
      "zm10_wms = WebMapService(zm10_url)\n",
      "\n",
      "print(\"WMS title: %s\" % zm10_wms.identification.title)\n",
      "\n",
      "print(\"WMS abstract: %s\" % zm10_wms.identification.abstract)\n",
      "\n",
      "print(\"Provider name: %s\" % zm10_wms.provider.name)\n",
      "\n",
      "print(\"Provider address: %s\" % zm10_wms.provider.contact.address)"
     ],
     "language": "python",
     "metadata": {},
     "outputs": []
    },
    {
     "cell_type": "markdown",
     "metadata": {},
     "source": [
      "Available WMS layers:"
     ]
    },
    {
     "cell_type": "code",
     "collapsed": false,
     "input": [
      "print(zm10_wms.contents)\n",
      "\n",
      "print(zm10_wms.contents['GR_ZM10'].boundingBox)\n",
      "\n",
      "print(zm10_wms.contents['GR_ZM10'].boundingBoxWGS84)"
     ],
     "language": "python",
     "metadata": {},
     "outputs": []
    },
    {
     "cell_type": "markdown",
     "metadata": {},
     "source": [
      "Download and save the data (image)"
     ]
    },
    {
     "cell_type": "code",
     "collapsed": false,
     "input": [
      "img = zm10_wms.getmap(layers=['GR_ZM10'],\n",
      "    size=[800, 600],\n",
      "    srs=\"EPSG:5514\",\n",
      "    bbox=[-950003.175021186, -1250003.1750036045, -399990.474995786, -899996.8249909044],\n",
      "    format=\"image/png\")\n",
      "\n",
      "out = open('zm10.png', 'w')\n",
      "out.write(img.read())\n",
      "out.close()"
     ],
     "language": "python",
     "metadata": {},
     "outputs": []
    },
    {
     "cell_type": "code",
     "collapsed": false,
     "input": [
      "from IPython.display import Image\n",
      "Image(filename='zm10.png')"
     ],
     "language": "python",
     "metadata": {},
     "outputs": []
    },
    {
     "cell_type": "markdown",
     "metadata": {},
     "source": [
      "### OGC WFS\n",
      "\n",
      "OGC Web Feature Service deals for downloading of vector data. Usually OGC GML format is used for data exchange."
     ]
    },
    {
     "cell_type": "markdown",
     "metadata": {},
     "source": [
      "First step: let's find some WFS service in our CSW server:"
     ]
    },
    {
     "cell_type": "code",
     "collapsed": false,
     "input": [
      "wfs_query = PropertyIsLike('csw:AnyText', 'WFS')\n",
      "aopk_query = PropertyIsLike('csw:AnyText', 'AOPK')\n",
      "service_query = PropertyIsLike('apiso:type', 'service')\n",
      "aopk_and_wfs = And([aopk_query, wfs_query, service_query])\n",
      "thecsw.getrecords2([aopk_and_wfs], esn='full')\n",
      "\n",
      "print(thecsw.results)\n",
      "\n",
      "for recid in thecsw.records:\n",
      "    record = thecsw.records[recid]\n",
      "    print recid, record.title"
     ],
     "language": "python",
     "metadata": {},
     "outputs": []
    },
    {
     "cell_type": "markdown",
     "metadata": {},
     "source": [
      "Let's have a look at WFS data in Nature Conservation Agency of the Czech Republic"
     ]
    },
    {
     "cell_type": "code",
     "collapsed": false,
     "input": [
      "natura = thecsw.records['53e37222-89a0-472b-9781-5bfc0a02080a']\n",
      "print(\"Abstract:\\n %s\\n\" % natura.abstract)\n",
      "\n",
      "print(\"Identifier: %s\" % natura.identifiers[1]['identifier'])"
     ],
     "language": "python",
     "metadata": {},
     "outputs": []
    },
    {
     "cell_type": "markdown",
     "metadata": {},
     "source": [
      "Let's read some data"
     ]
    },
    {
     "cell_type": "code",
     "collapsed": false,
     "input": [
      "from owslib import wfs as webfeatureservice\n",
      "url = natura.identifiers[1]['identifier']\n",
      "# https does not work, use\n",
      "aopk = webfeatureservice.WebFeatureService('http://gis.nature.cz/arcgis/services/UzemniOchrana/Natura2000/MapServer/WFSServer')"
     ],
     "language": "python",
     "metadata": {},
     "outputs": []
    },
    {
     "cell_type": "markdown",
     "metadata": {},
     "source": [
      "Zjist\u00edme vlastnosti slu\u017eby (Capabilities):"
     ]
    },
    {
     "cell_type": "code",
     "collapsed": false,
     "input": [
      "capabilities = aopk.getcapabilities()\n",
      "print(\"URL: %s\" % capabilities.geturl())\n",
      "print(\"Name: %s\" % aopk.provider.name)\n",
      "print(\"Title: %s\" % aopk.identification.title)\n",
      "print(\"Keywords: %s\" % aopk.identification.keywords[0])\n",
      "print(\"Fees: %s\" % aopk.identification.fees)\n",
      "print(\"Abstract: %s\" % aopk.identification.abstract)"
     ],
     "language": "python",
     "metadata": {},
     "outputs": []
    },
    {
     "cell_type": "markdown",
     "metadata": {},
     "source": [
      "Metadata attributes of the service"
     ]
    },
    {
     "cell_type": "code",
     "collapsed": false,
     "input": [
      "for i in aopk.contents:\n",
      "    print i"
     ],
     "language": "python",
     "metadata": {},
     "outputs": []
    },
    {
     "cell_type": "markdown",
     "metadata": {},
     "source": [
      "Get the data now"
     ]
    },
    {
     "cell_type": "code",
     "collapsed": false,
     "input": [
      "identifier = 'UzemniOchrana_Natura2000:Evropsky_v\u00fdznamn\u00e1_lokalita__EVL_'\n",
      "features = aopk.getfeature([identifier])\n",
      "print features"
     ],
     "language": "python",
     "metadata": {},
     "outputs": []
    },
    {
     "cell_type": "markdown",
     "metadata": {},
     "source": [
      "Print the XML nicely"
     ]
    },
    {
     "cell_type": "code",
     "collapsed": false,
     "input": [
      "print(features.read())"
     ],
     "language": "python",
     "metadata": {},
     "outputs": []
    }
   ],
   "metadata": {}
  }
 ]
}
