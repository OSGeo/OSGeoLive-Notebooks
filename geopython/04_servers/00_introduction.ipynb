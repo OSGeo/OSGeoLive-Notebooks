{
 "metadata": {
  "name": "",
  "signature": "sha256:c07bed0cf487429f548a764fe311f244bd0ccee9d262f248a5ae5d53b476b1f9"
 },
 "nbformat": 3,
 "nbformat_minor": 0,
 "worksheets": [
  {
   "cells": [
    {
     "cell_type": "markdown",
     "metadata": {},
     "source": [
      "# Servers and Python\n",
      "\n",
      "Just very short:\n",
      "\n",
      "* MapScript\n",
      "* GSConfig\n",
      "* GeoDjango\n",
      "-----\n",
      "* PyCSW\n",
      "* PyWPS\n",
      "* istSOS\n",
      "* ...."
     ]
    },
    {
     "cell_type": "code",
     "collapsed": false,
     "input": [],
     "language": "python",
     "metadata": {},
     "outputs": []
    }
   ],
   "metadata": {}
  }
 ]
}