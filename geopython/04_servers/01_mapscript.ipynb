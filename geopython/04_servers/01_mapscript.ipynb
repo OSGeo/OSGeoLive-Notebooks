{
 "metadata": {
  "name": "",
  "signature": "sha256:f22b2254720dd73d12ee04a734399334c0697a9a9f93d791690220861007c5e1"
 },
 "nbformat": 3,
 "nbformat_minor": 0,
 "worksheets": [
  {
   "cells": [
    {
     "cell_type": "markdown",
     "metadata": {},
     "source": [
      "# MapServer MapScript\n",
      "\n",
      "Following classes have to be defined, if you need to work with MapServer MapFile configuration from Python:\n",
      "\n",
      "* Map\n",
      "* Layer\n",
      "* Class\n",
      "* Style"
     ]
    },
    {
     "cell_type": "markdown",
     "metadata": {},
     "source": [
      "![MapScript structure](http://training.gismentors.eu/geopython/_images/aafig-cef9c09ce1d44f7817590e9715e228423f9492c8.svg)"
     ]
    },
    {
     "cell_type": "markdown",
     "metadata": {},
     "source": [
      "More info: http://mapserver.org/mapscript/python.html"
     ]
    },
    {
     "cell_type": "markdown",
     "metadata": {},
     "source": [
      "Create mapfile object fast example"
     ]
    },
    {
     "cell_type": "markdown",
     "metadata": {},
     "source": [
      "Get basic values"
     ]
    },
    {
     "cell_type": "code",
     "collapsed": false,
     "input": [
      "import mapscript, ogr\n",
      "\n",
      "chko = ogr.Open('/usr/local/share/data/north_carolina/shape/boundary_county.shp')\n",
      "l = chko.GetLayer()\n",
      "extent = l.GetExtent()\n",
      "print chko.GetDriver().GetName()"
     ],
     "language": "python",
     "metadata": {},
     "outputs": []
    },
    {
     "cell_type": "markdown",
     "metadata": {},
     "source": [
      "Create `Map` object"
     ]
    },
    {
     "cell_type": "code",
     "collapsed": false,
     "input": [
      "mapobj = mapscript.mapObj()\n",
      "mapobj.setSize(500, 500)\n",
      "mapobj.setExtent(extent[0], extent[2], extent[1], extent[3])\n",
      "mapobj.setProjection(l.GetSpatialRef().ExportToProj4())"
     ],
     "language": "python",
     "metadata": {},
     "outputs": []
    },
    {
     "cell_type": "markdown",
     "metadata": {},
     "source": [
      "Create layer object"
     ]
    },
    {
     "cell_type": "code",
     "collapsed": false,
     "input": [
      "layer = mapscript.layerObj(mapobj)\n",
      "layer.type = mapscript.MS_LAYER_POLYGON\n",
      "layer.data = '/usr/local/share/data/north_carolina/shape/boundary_county.shp'\n",
      "layer.status = mapscript.MS_ON\n",
      "layer.setProjection(l.GetSpatialRef().ExportToProj4())"
     ],
     "language": "python",
     "metadata": {},
     "outputs": []
    },
    {
     "cell_type": "markdown",
     "metadata": {},
     "source": [
      "Layer class"
     ]
    },
    {
     "cell_type": "code",
     "collapsed": false,
     "input": [
      "classobj = mapscript.classObj(layer)\n",
      "styleobj = mapscript.styleObj(classobj)\n",
      "styleobj.color = mapscript.colorObj(0, 0, 200)"
     ],
     "language": "python",
     "metadata": {},
     "outputs": []
    },
    {
     "cell_type": "markdown",
     "metadata": {},
     "source": [
      "Create  output"
     ]
    },
    {
     "cell_type": "code",
     "collapsed": false,
     "input": [
      "mapobj.outputformat.imagemode = mapscript.MS_IMAGEMODE_RGBA\n",
      "mapobj.outputformat.transparent= 1\n",
      "\n",
      "img = mapobj.draw()\n",
      "img.save('out.png')\n",
      "\n",
      "mapobj.save(\"out.map\")"
     ],
     "language": "python",
     "metadata": {},
     "outputs": []
    },
    {
     "cell_type": "markdown",
     "metadata": {},
     "source": [
      "And display"
     ]
    },
    {
     "cell_type": "code",
     "collapsed": false,
     "input": [
      "from IPython.display import Image\n",
      "Image(filename='out.png')"
     ],
     "language": "python",
     "metadata": {},
     "outputs": []
    }
   ],
   "metadata": {}
  }
 ]
} 
